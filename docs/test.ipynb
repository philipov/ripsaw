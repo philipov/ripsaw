{
 "cells": [
  {
   "cell_type": "code",
   "execution_count": 8,
   "metadata": {},
   "outputs": [
    {
     "name": "stderr",
     "output_type": "stream",
     "text": [
      "    ---- ripsaw monitor ----\n"
     ]
    }
   ],
   "source": [
    "### logging / color\n",
    "from powertools import AutoLogger\n",
    "log = AutoLogger()\n",
    "from powertools import term\n",
    "log.print('    ', term.pink('----'), ' ', term.yellow('ripsaw monitor'), ' ', term.pink('----'))\n",
    "\n",
    "### imports\n",
    "from ripsaw import Monitor, Regex, And, Or\n",
    "from pathlib import Path\n",
    "import re"
   ]
  },
  {
   "cell_type": "code",
   "execution_count": 9,
   "metadata": {},
   "outputs": [
    {
     "name": "stderr",
     "output_type": "stream",
     "text": [
      "new monitor on:      ..\\tests\\data\n",
      "file pattern:        *.log\n",
      "savepath:            None\n",
      "dir scan interval:   5\n",
      "file scan interval:  5\n"
     ]
    }
   ],
   "source": [
    "monitor = Monitor(\n",
    "    target   = Path('../tests/data'),\n",
    "    pattern  = '*.log'\n",
    ")"
   ]
  },
  {
   "cell_type": "code",
   "execution_count": 10,
   "metadata": {},
   "outputs": [
    {
     "name": "stderr",
     "output_type": "stream",
     "text": [
      "new handler:         <Regex|ERROR> -> <function handle_error>\n"
     ]
    }
   ],
   "source": [
    "@monitor.event(Regex('ERROR'))\n",
    "async def handle_error(prompter):\n",
    "    log.print(term.green(f'starting match_error for {prompter.file.name} ...'))\n",
    "    async for event in prompter:\n",
    "        log.print(prompter.file.name, term.dgreen(f' {prompter.trigger}:'), f' {event.match} | ', term.green(event.line.strip()) )\n"
   ]
  },
  {
   "cell_type": "code",
   "execution_count": 11,
   "metadata": {},
   "outputs": [
    {
     "name": "stderr",
     "output_type": "stream",
     "text": [
      "new handler:         <Regex|aoeu> -> <function handle_aoeu>\n"
     ]
    }
   ],
   "source": [
    "@monitor.event(Regex('aoeu'))\n",
    "async def handle_aoeu(prompter):\n",
    "    log.print(term.green(f'starting match_aoeu for {prompter.file.name} ...'))\n",
    "    async for event in prompter:\n",
    "        log.print(prompter.file.name, term.dgreen(f' {prompter.trigger}:'), f' {event.match} | ', term.green(event.line.strip()) )\n"
   ]
  },
  {
   "cell_type": "code",
   "execution_count": 12,
   "metadata": {},
   "outputs": [
    {
     "name": "stderr",
     "output_type": "stream",
     "text": [
      "new handler:         <And|(<Regex|.*ERROR.*>, <Regex|.*aoeu.*>)> -> <function handle_and>\n"
     ]
    }
   ],
   "source": [
    "@monitor.event( And(\n",
    "        Regex('.*ERROR.*', re.IGNORECASE),\n",
    "        Regex('.*aoeu.*'),\n",
    "))\n",
    "async def handle_and(prompter):\n",
    "    log.print(term.green(f'starting match_and for {prompter.file.name} ...'))\n",
    "    while True:\n",
    "        event = await prompter()\n",
    "        log.print(prompter.file.name, term.dgreen(f' {prompter.trigger}:'), f' {event.match} | ', term.green(event.line.strip()) )"
   ]
  },
  {
   "cell_type": "code",
   "execution_count": 13,
   "metadata": {},
   "outputs": [
    {
     "name": "stderr",
     "output_type": "stream",
     "text": [
      "begin watching for new files...\n",
      "scanned count: \n",
      "{}\n",
      "new file: test1.log\n",
      "spawn line handler for test1.log: <Regex|ERROR>\n",
      "spawn line handler for test1.log: <Regex|aoeu>\n",
      "spawn line handler for test1.log: <And|(<Regex|.*ERROR.*>, <Regex|.*aoeu.*>)>\n",
      "new file: test2.log\n",
      "spawn line handler for test2.log: <Regex|ERROR>\n",
      "spawn line handler for test2.log: <Regex|aoeu>\n",
      "spawn line handler for test2.log: <And|(<Regex|.*ERROR.*>, <Regex|.*aoeu.*>)>\n",
      "starting match_error for test1.log ...\n",
      "starting match_aoeu for test1.log ...\n",
      "starting match_and for test1.log ...\n",
      "starting match_error for test2.log ...\n",
      "starting match_aoeu for test2.log ...\n",
      "starting match_and for test2.log ...\n",
      "test1.log put start of log file\n",
      "test2.log put yesterdayaoeu\n",
      "test1.log put \n",
      "test2.log put aoeu\n",
      "test2.log <Regex|aoeu>: <_sre.SRE_Match object; span=(0, 4), match='aoeu'> | aoeu\n",
      "test1.log put aoeu\n",
      "test2.log put ERROR aoeu\n",
      "test1.log <Regex|aoeu>: <_sre.SRE_Match object; span=(0, 4), match='aoeu'> | aoeu\n",
      "test2.log <And|(<Regex|.*ERROR.*>, <Regex|.*aoeu.*>)>: ('AND', <_sre.SRE_Match object; span=(0, 10), match='ERROR aoeu'>, <_sre.SRE_Match object; span=(0, 10), match='ERROR aoeu'>) | ERROR aoeu\n",
      "test1.log put test\n",
      "test2.log put error aoeu\n",
      "test2.log <And|(<Regex|.*ERROR.*>, <Regex|.*aoeu.*>)>: ('AND', <_sre.SRE_Match object; span=(0, 10), match='error aoeu'>, <_sre.SRE_Match object; span=(0, 10), match='error aoeu'>) | error aoeu\n",
      "test1.log put aoeu\n",
      "test2.log put error\n",
      "test1.log <Regex|aoeu>: <_sre.SRE_Match object; span=(0, 4), match='aoeu'> | aoeu\n",
      "test1.log put hello world\n",
      "test2.log put ERROR\n",
      "test2.log <Regex|ERROR>: <_sre.SRE_Match object; span=(0, 5), match='ERROR'> | ERROR\n",
      "test1.log put hello\n",
      "test2.log put error AOEU\n",
      "scanned count: \n",
      "{'test1.log': 7, 'test2.log': 7}\n",
      "scanned count: \n",
      "{'test1.log': 7, 'test2.log': 7}\n",
      "scanned count: \n",
      "{'test1.log': 7, 'test2.log': 7}\n"
     ]
    },
    {
     "ename": "KeyboardInterrupt",
     "evalue": "",
     "output_type": "error",
     "traceback": [
      "\u001b[1;31m---------------------------------------------------------------------------\u001b[0m",
      "\u001b[1;31mKeyboardInterrupt\u001b[0m                         Traceback (most recent call last)",
      "\u001b[1;32m<ipython-input-13-9d5c607569de>\u001b[0m in \u001b[0;36m<module>\u001b[1;34m()\u001b[0m\n\u001b[1;32m----> 1\u001b[1;33m \u001b[0mmonitor\u001b[0m\u001b[1;33m.\u001b[0m\u001b[0mrun\u001b[0m\u001b[1;33m(\u001b[0m\u001b[1;33m)\u001b[0m\u001b[1;33m\u001b[0m\u001b[0m\n\u001b[0m",
      "\u001b[1;32mc:\\omd\\pkg\\lib\\python\\mconda36\\lib\\site-packages\\ripsaw\\monitor.py\u001b[0m in \u001b[0;36mrun\u001b[1;34m(self)\u001b[0m\n\u001b[0;32m    140\u001b[0m         ''' start the application\n\u001b[0;32m    141\u001b[0m         '''\n\u001b[1;32m--> 142\u001b[1;33m         \u001b[0mcurio\u001b[0m\u001b[1;33m.\u001b[0m\u001b[0mrun\u001b[0m\u001b[1;33m(\u001b[0m \u001b[0mself\u001b[0m\u001b[1;33m.\u001b[0m\u001b[0mlauncher\u001b[0m\u001b[1;33m(\u001b[0m\u001b[1;33m)\u001b[0m \u001b[1;33m)\u001b[0m\u001b[1;33m\u001b[0m\u001b[0m\n\u001b[0m\u001b[0;32m    143\u001b[0m \u001b[1;33m\u001b[0m\u001b[0m\n\u001b[0;32m    144\u001b[0m     \u001b[1;31m######################\u001b[0m\u001b[1;33m\u001b[0m\u001b[1;33m\u001b[0m\u001b[0m\n",
      "\u001b[1;32mc:\\omd\\pkg\\lib\\python\\mconda36\\lib\\site-packages\\curio\\kernel.py\u001b[0m in \u001b[0;36mrun\u001b[1;34m(corofunc, with_monitor, selector, debug, activations, *args, **extra)\u001b[0m\n\u001b[0;32m    816\u001b[0m \u001b[1;33m\u001b[0m\u001b[0m\n\u001b[0;32m    817\u001b[0m     \u001b[1;32mwith\u001b[0m \u001b[0mkernel\u001b[0m\u001b[1;33m:\u001b[0m\u001b[1;33m\u001b[0m\u001b[0m\n\u001b[1;32m--> 818\u001b[1;33m         \u001b[1;32mreturn\u001b[0m \u001b[0mkernel\u001b[0m\u001b[1;33m.\u001b[0m\u001b[0mrun\u001b[0m\u001b[1;33m(\u001b[0m\u001b[0mcorofunc\u001b[0m\u001b[1;33m,\u001b[0m \u001b[1;33m*\u001b[0m\u001b[0margs\u001b[0m\u001b[1;33m)\u001b[0m\u001b[1;33m\u001b[0m\u001b[0m\n\u001b[0m",
      "\u001b[1;32mc:\\omd\\pkg\\lib\\python\\mconda36\\lib\\site-packages\\curio\\kernel.py\u001b[0m in \u001b[0;36mrun\u001b[1;34m(self, corofunc, shutdown, *args)\u001b[0m\n\u001b[0;32m    147\u001b[0m             \u001b[1;31m# Submit the given coroutine (if any)\u001b[0m\u001b[1;33m\u001b[0m\u001b[1;33m\u001b[0m\u001b[0m\n\u001b[0;32m    148\u001b[0m             \u001b[1;32mif\u001b[0m \u001b[0mcoro\u001b[0m \u001b[1;32mor\u001b[0m \u001b[1;32mnot\u001b[0m \u001b[0mshutdown\u001b[0m\u001b[1;33m:\u001b[0m\u001b[1;33m\u001b[0m\u001b[0m\n\u001b[1;32m--> 149\u001b[1;33m                 \u001b[0mret_val\u001b[0m\u001b[1;33m,\u001b[0m \u001b[0mret_exc\u001b[0m \u001b[1;33m=\u001b[0m \u001b[0mself\u001b[0m\u001b[1;33m.\u001b[0m\u001b[0m_runner\u001b[0m\u001b[1;33m.\u001b[0m\u001b[0msend\u001b[0m\u001b[1;33m(\u001b[0m\u001b[0mcoro\u001b[0m\u001b[1;33m)\u001b[0m\u001b[1;33m\u001b[0m\u001b[0m\n\u001b[0m\u001b[0;32m    150\u001b[0m             \u001b[1;32melse\u001b[0m\u001b[1;33m:\u001b[0m\u001b[1;33m\u001b[0m\u001b[0m\n\u001b[0;32m    151\u001b[0m                 \u001b[0mret_val\u001b[0m \u001b[1;33m=\u001b[0m \u001b[0mret_exc\u001b[0m \u001b[1;33m=\u001b[0m \u001b[1;32mNone\u001b[0m\u001b[1;33m\u001b[0m\u001b[0m\n",
      "\u001b[1;32mc:\\omd\\pkg\\lib\\python\\mconda36\\lib\\site-packages\\curio\\kernel.py\u001b[0m in \u001b[0;36m_run_coro\u001b[1;34m(kernel)\u001b[0m\n\u001b[0;32m    645\u001b[0m                 \u001b[0mtimeout\u001b[0m \u001b[1;33m=\u001b[0m \u001b[0msleepq\u001b[0m\u001b[1;33m.\u001b[0m\u001b[0mnext_deadline\u001b[0m\u001b[1;33m(\u001b[0m\u001b[0mcurrent_time\u001b[0m\u001b[1;33m)\u001b[0m\u001b[1;33m\u001b[0m\u001b[0m\n\u001b[0;32m    646\u001b[0m             \u001b[1;32mtry\u001b[0m\u001b[1;33m:\u001b[0m\u001b[1;33m\u001b[0m\u001b[0m\n\u001b[1;32m--> 647\u001b[1;33m                 \u001b[0mevents\u001b[0m \u001b[1;33m=\u001b[0m \u001b[0mselector_select\u001b[0m\u001b[1;33m(\u001b[0m\u001b[0mtimeout\u001b[0m\u001b[1;33m)\u001b[0m\u001b[1;33m\u001b[0m\u001b[0m\n\u001b[0m\u001b[0;32m    648\u001b[0m             \u001b[1;32mexcept\u001b[0m \u001b[0mOSError\u001b[0m \u001b[1;32mas\u001b[0m \u001b[0me\u001b[0m\u001b[1;33m:\u001b[0m     \u001b[1;31m# pragma: no cover\u001b[0m\u001b[1;33m\u001b[0m\u001b[0m\n\u001b[0;32m    649\u001b[0m                 \u001b[1;31m# If there is nothing to select, windows throws an\u001b[0m\u001b[1;33m\u001b[0m\u001b[1;33m\u001b[0m\u001b[0m\n",
      "\u001b[1;32mc:\\omd\\pkg\\lib\\python\\mconda36\\lib\\selectors.py\u001b[0m in \u001b[0;36mselect\u001b[1;34m(self, timeout)\u001b[0m\n\u001b[0;32m    321\u001b[0m         \u001b[0mready\u001b[0m \u001b[1;33m=\u001b[0m \u001b[1;33m[\u001b[0m\u001b[1;33m]\u001b[0m\u001b[1;33m\u001b[0m\u001b[0m\n\u001b[0;32m    322\u001b[0m         \u001b[1;32mtry\u001b[0m\u001b[1;33m:\u001b[0m\u001b[1;33m\u001b[0m\u001b[0m\n\u001b[1;32m--> 323\u001b[1;33m             \u001b[0mr\u001b[0m\u001b[1;33m,\u001b[0m \u001b[0mw\u001b[0m\u001b[1;33m,\u001b[0m \u001b[0m_\u001b[0m \u001b[1;33m=\u001b[0m \u001b[0mself\u001b[0m\u001b[1;33m.\u001b[0m\u001b[0m_select\u001b[0m\u001b[1;33m(\u001b[0m\u001b[0mself\u001b[0m\u001b[1;33m.\u001b[0m\u001b[0m_readers\u001b[0m\u001b[1;33m,\u001b[0m \u001b[0mself\u001b[0m\u001b[1;33m.\u001b[0m\u001b[0m_writers\u001b[0m\u001b[1;33m,\u001b[0m \u001b[1;33m[\u001b[0m\u001b[1;33m]\u001b[0m\u001b[1;33m,\u001b[0m \u001b[0mtimeout\u001b[0m\u001b[1;33m)\u001b[0m\u001b[1;33m\u001b[0m\u001b[0m\n\u001b[0m\u001b[0;32m    324\u001b[0m         \u001b[1;32mexcept\u001b[0m \u001b[0mInterruptedError\u001b[0m\u001b[1;33m:\u001b[0m\u001b[1;33m\u001b[0m\u001b[0m\n\u001b[0;32m    325\u001b[0m             \u001b[1;32mreturn\u001b[0m \u001b[0mready\u001b[0m\u001b[1;33m\u001b[0m\u001b[0m\n",
      "\u001b[1;32mc:\\omd\\pkg\\lib\\python\\mconda36\\lib\\selectors.py\u001b[0m in \u001b[0;36m_select\u001b[1;34m(self, r, w, _, timeout)\u001b[0m\n\u001b[0;32m    312\u001b[0m     \u001b[1;32mif\u001b[0m \u001b[0msys\u001b[0m\u001b[1;33m.\u001b[0m\u001b[0mplatform\u001b[0m \u001b[1;33m==\u001b[0m \u001b[1;34m'win32'\u001b[0m\u001b[1;33m:\u001b[0m\u001b[1;33m\u001b[0m\u001b[0m\n\u001b[0;32m    313\u001b[0m         \u001b[1;32mdef\u001b[0m \u001b[0m_select\u001b[0m\u001b[1;33m(\u001b[0m\u001b[0mself\u001b[0m\u001b[1;33m,\u001b[0m \u001b[0mr\u001b[0m\u001b[1;33m,\u001b[0m \u001b[0mw\u001b[0m\u001b[1;33m,\u001b[0m \u001b[0m_\u001b[0m\u001b[1;33m,\u001b[0m \u001b[0mtimeout\u001b[0m\u001b[1;33m=\u001b[0m\u001b[1;32mNone\u001b[0m\u001b[1;33m)\u001b[0m\u001b[1;33m:\u001b[0m\u001b[1;33m\u001b[0m\u001b[0m\n\u001b[1;32m--> 314\u001b[1;33m             \u001b[0mr\u001b[0m\u001b[1;33m,\u001b[0m \u001b[0mw\u001b[0m\u001b[1;33m,\u001b[0m \u001b[0mx\u001b[0m \u001b[1;33m=\u001b[0m \u001b[0mselect\u001b[0m\u001b[1;33m.\u001b[0m\u001b[0mselect\u001b[0m\u001b[1;33m(\u001b[0m\u001b[0mr\u001b[0m\u001b[1;33m,\u001b[0m \u001b[0mw\u001b[0m\u001b[1;33m,\u001b[0m \u001b[0mw\u001b[0m\u001b[1;33m,\u001b[0m \u001b[0mtimeout\u001b[0m\u001b[1;33m)\u001b[0m\u001b[1;33m\u001b[0m\u001b[0m\n\u001b[0m\u001b[0;32m    315\u001b[0m             \u001b[1;32mreturn\u001b[0m \u001b[0mr\u001b[0m\u001b[1;33m,\u001b[0m \u001b[0mw\u001b[0m \u001b[1;33m+\u001b[0m \u001b[0mx\u001b[0m\u001b[1;33m,\u001b[0m \u001b[1;33m[\u001b[0m\u001b[1;33m]\u001b[0m\u001b[1;33m\u001b[0m\u001b[0m\n\u001b[0;32m    316\u001b[0m     \u001b[1;32melse\u001b[0m\u001b[1;33m:\u001b[0m\u001b[1;33m\u001b[0m\u001b[0m\n",
      "\u001b[1;31mKeyboardInterrupt\u001b[0m: "
     ]
    }
   ],
   "source": [
    "monitor.run()"
   ]
  },
  {
   "cell_type": "code",
   "execution_count": null,
   "metadata": {},
   "outputs": [],
   "source": []
  }
 ],
 "metadata": {
  "kernelspec": {
   "display_name": "Python 3",
   "language": "python",
   "name": "python3"
  },
  "language_info": {
   "codemirror_mode": {
    "name": "ipython",
    "version": 3
   },
   "file_extension": ".py",
   "mimetype": "text/x-python",
   "name": "python",
   "nbconvert_exporter": "python",
   "pygments_lexer": "ipython3",
   "version": "3.6.1"
  }
 },
 "nbformat": 4,
 "nbformat_minor": 2
}
