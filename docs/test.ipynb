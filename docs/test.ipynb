{
 "cells": [
  {
   "cell_type": "code",
   "execution_count": 1,
   "metadata": {},
   "outputs": [],
   "source": [
    "from ripsaw import Monitor, Regex\n",
    "from pathlib import Path\n",
    "import curio"
   ]
  },
  {
   "cell_type": "code",
   "execution_count": 2,
   "metadata": {},
   "outputs": [],
   "source": [
    "monitor = Monitor(\n",
    "    target   = Path('../tests/data'),\n",
    "    pattern  = '*.log'\n",
    ")"
   ]
  },
  {
   "cell_type": "code",
   "execution_count": 3,
   "metadata": {},
   "outputs": [],
   "source": [
    "@monitor.event(Regex('.*'))\n",
    "async def match_any_line():\n",
    "    '''handle the event'''\n",
    "    print('match_any_line')\n",
    "    a = set((1, 2))\n",
    "    print(a)"
   ]
  },
  {
   "cell_type": "code",
   "execution_count": null,
   "metadata": {},
   "outputs": [
    {
     "name": "stderr",
     "output_type": "stream",
     "text": [
      "    ---- ripsaw ----\n",
      "begin monitoring on: ..\\tests\\data\n",
      "file pattern:        *.log\n",
      "savepath:            None\n",
      "dir scan interval:   5\n",
      "new file: test1.log\n",
      "new file: test2.log\n",
      "spawn line handler for test1.log: <Regex: .*> : <function match_any_line at 0x0000000005A3A9D8>\n",
      "spawn line handler for test2.log: <Regex: .*> : <function match_any_line at 0x0000000005A3A9D8>\n",
      "test1.log start of log file\n",
      "test1.log \n",
      "test1.log aoeu\n",
      "test1.log test\n",
      "test1.log aoeu\n",
      "test1.log hello world\n",
      "test1.log \n",
      "test1.log hello\n",
      "test2.log yesterday\n",
      "test2.log eu\n",
      "test2.log aoeu\n",
      "test2.log \n",
      "test2.log ROR aoeu\n",
      "test2.log error aoeu\n",
      "test2.log error\n",
      "test2.log ERROR\n",
      "test2.log error AOEU\n"
     ]
    }
   ],
   "source": [
    "monitor.run()"
   ]
  },
  {
   "cell_type": "code",
   "execution_count": null,
   "metadata": {},
   "outputs": [],
   "source": []
  }
 ],
 "metadata": {
  "kernelspec": {
   "display_name": "Python 3",
   "language": "python",
   "name": "python3"
  },
  "language_info": {
   "codemirror_mode": {
    "name": "ipython",
    "version": 3
   },
   "file_extension": ".py",
   "mimetype": "text/x-python",
   "name": "python",
   "nbconvert_exporter": "python",
   "pygments_lexer": "ipython3",
   "version": "3.6.1"
  }
 },
 "nbformat": 4,
 "nbformat_minor": 2
}
