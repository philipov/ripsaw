{
 "cells": [
  {
   "cell_type": "code",
   "execution_count": 2,
   "metadata": {},
   "outputs": [
    {
     "name": "stderr",
     "output_type": "stream",
     "text": [
      "    ---- ripsaw monitor ----\n"
     ]
    }
   ],
   "source": [
    "### logging / color\n",
    "from powertools import AutoLogger\n",
    "log = AutoLogger()\n",
    "from powertools import term\n",
    "term.init_color()\n",
    "log.print('    ', term.pink('----'), ' ', term.yellow('ripsaw monitor'), ' ', term.pink('----'))\n",
    "\n",
    "### imports\n",
    "from ripsaw import Monitor, Regex, And, Or\n",
    "from pathlib import Path\n",
    "import re"
   ]
  },
  {
   "cell_type": "code",
   "execution_count": 3,
   "metadata": {},
   "outputs": [
    {
     "name": "stderr",
     "output_type": "stream",
     "text": [
      "new monitor on:      ..\\tests\\data\n",
      "file pattern:        *.log\n",
      "savepath:            None\n",
      "dir scan interval:   5\n",
      "file scan interval:  5\n"
     ]
    }
   ],
   "source": [
    "monitor = Monitor(\n",
    "    target   = Path('../tests/data'),\n",
    "    pattern  = '*.log'\n",
    ")"
   ]
  },
  {
   "cell_type": "code",
   "execution_count": 4,
   "metadata": {},
   "outputs": [
    {
     "name": "stderr",
     "output_type": "stream",
     "text": [
      "new handler:         <Regex|ERROR> -> <function handle_error>\n"
     ]
    }
   ],
   "source": [
    "@monitor.event(Regex('ERROR'))\n",
    "async def handle_error(prompter):\n",
    "    log.print(term.green(f'starting match_error for {prompter.file.name} ...'))\n",
    "    async for event in prompter:\n",
    "        log.print(prompter.file.name, term.dgreen(f' {prompter.trigger}:'), f' {event.match} | ', term.green(event.line.strip()) )\n"
   ]
  },
  {
   "cell_type": "code",
   "execution_count": 5,
   "metadata": {},
   "outputs": [
    {
     "name": "stderr",
     "output_type": "stream",
     "text": [
      "new handler:         <Regex|aoeu> -> <function handle_aoeu>\n"
     ]
    }
   ],
   "source": [
    "@monitor.event(Regex('aoeu'))\n",
    "async def handle_aoeu(prompter):\n",
    "    log.print(term.green(f'starting match_aoeu for {prompter.file.name} ...'))\n",
    "    async for event in prompter:\n",
    "        log.print(prompter.file.name, term.dgreen(f' {prompter.trigger}:'), f' {event.match} | ', term.green(event.line.strip()) )\n"
   ]
  },
  {
   "cell_type": "code",
   "execution_count": 6,
   "metadata": {},
   "outputs": [
    {
     "name": "stderr",
     "output_type": "stream",
     "text": [
      "new handler:         <And|(<Regex|.*ERROR.*>, <Regex|.*aoeu.*>)> -> <function handle_and>\n"
     ]
    }
   ],
   "source": [
    "@monitor.event( And(\n",
    "        Regex('.*ERROR.*', re.IGNORECASE),\n",
    "        Regex('.*aoeu.*'),\n",
    "))\n",
    "async def handle_and(prompter):\n",
    "    log.print(term.green(f'starting match_and for {prompter.file.name} ...'))\n",
    "    while True:\n",
    "        event = await prompter()\n",
    "        log.print(prompter.file.name, term.dgreen(f' {prompter.trigger}:'), f' {event.match} | ', term.green(event.line.strip()) )"
   ]
  },
  {
   "cell_type": "code",
   "execution_count": null,
   "metadata": {},
   "outputs": [
    {
     "name": "stderr",
     "output_type": "stream",
     "text": [
      "begin watching for new files...\n",
      "scanned count: \n",
      "{}\n",
      "new file: test1.log\n",
      "spawn line handler for test1.log: <Regex|ERROR>\n",
      "spawn line handler for test1.log: <Regex|aoeu>\n",
      "spawn line handler for test1.log: <And|(<Regex|.*ERROR.*>, <Regex|.*aoeu.*>)>\n",
      "new file: test2.log\n",
      "spawn line handler for test2.log: <Regex|ERROR>\n",
      "spawn line handler for test2.log: <Regex|aoeu>\n",
      "spawn line handler for test2.log: <And|(<Regex|.*ERROR.*>, <Regex|.*aoeu.*>)>\n",
      "starting match_error for test1.log ...\n",
      "starting match_aoeu for test1.log ...\n",
      "starting match_and for test1.log ...\n",
      "starting match_error for test2.log ...\n",
      "starting match_aoeu for test2.log ...\n",
      "starting match_and for test2.log ...\n",
      "test2.log put yesterdayaoeu\n",
      "test1.log put start of log file\n",
      "test2.log put aoeu\n",
      "test2.log <Regex|aoeu>: <_sre.SRE_Match object; span=(0, 4), match='aoeu'> | aoeu\n",
      "test1.log put \n",
      "test2.log put ERROR aoeu\n",
      "test2.log <And|(<Regex|.*ERROR.*>, <Regex|.*aoeu.*>)>: ('AND', <_sre.SRE_Match object; span=(0, 10), match='ERROR aoeu'>, <_sre.SRE_Match object; span=(0, 10), match='ERROR aoeu'>) | ERROR aoeu\n",
      "test1.log put aoeu\n",
      "test2.log put error aoeu\n",
      "test1.log <Regex|aoeu>: <_sre.SRE_Match object; span=(0, 4), match='aoeu'> | aoeu\n",
      "test2.log <And|(<Regex|.*ERROR.*>, <Regex|.*aoeu.*>)>: ('AND', <_sre.SRE_Match object; span=(0, 10), match='error aoeu'>, <_sre.SRE_Match object; span=(0, 10), match='error aoeu'>) | error aoeu\n",
      "test1.log put test\n",
      "test2.log put error\n",
      "test1.log put aoeu\n",
      "test2.log put ERROR\n",
      "test1.log <Regex|aoeu>: <_sre.SRE_Match object; span=(0, 4), match='aoeu'> | aoeu\n",
      "test2.log <Regex|ERROR>: <_sre.SRE_Match object; span=(0, 5), match='ERROR'> | ERROR\n",
      "test1.log put hello world\n",
      "test2.log put error AOEU\n",
      "test1.log put hello\n",
      "scanned count: \n",
      "{'test1.log': 7, 'test2.log': 7}\n",
      "scanned count: \n",
      "{'test1.log': 7, 'test2.log': 7}\n"
     ]
    }
   ],
   "source": [
    "monitor.run()"
   ]
  },
  {
   "cell_type": "code",
   "execution_count": null,
   "metadata": {},
   "outputs": [],
   "source": []
  }
 ],
 "metadata": {
  "kernelspec": {
   "display_name": "Python 3",
   "language": "python",
   "name": "python3"
  },
  "language_info": {
   "codemirror_mode": {
    "name": "ipython",
    "version": 3
   },
   "file_extension": ".py",
   "mimetype": "text/x-python",
   "name": "python",
   "nbconvert_exporter": "python",
   "pygments_lexer": "ipython3",
   "version": "3.6.1"
  }
 },
 "nbformat": 4,
 "nbformat_minor": 2
}
